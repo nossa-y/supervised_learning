{
 "cells": [
  {
   "cell_type": "code",
   "execution_count": 1,
   "metadata": {},
   "outputs": [],
   "source": [
    "#%matplotlib inline\n",
    "import scipy\n",
    "import numpy as np\n",
    "import matplotlib.pyplot as plt\n",
    "np.random.seed(0)"
   ]
  },
  {
   "cell_type": "markdown",
   "metadata": {},
   "source": [
    "# <font color='green'>Troisième partie: Arbres de décision vs. Forêts aléatoires\n",
    "\n",
    "##   <font color='blue'>Etape 1. Visualiser la base de chiffres manuscrits\n"
   ]
  },
  {
   "cell_type": "code",
   "execution_count": 2,
   "metadata": {},
   "outputs": [
    {
     "name": "stdout",
     "output_type": "stream",
     "text": [
      "[0 1 2 3 4 5 6 7 8 9]\n",
      "['pixel_0_0', 'pixel_0_1', 'pixel_0_2', 'pixel_0_3', 'pixel_0_4', 'pixel_0_5', 'pixel_0_6', 'pixel_0_7', 'pixel_1_0', 'pixel_1_1', 'pixel_1_2', 'pixel_1_3', 'pixel_1_4', 'pixel_1_5', 'pixel_1_6', 'pixel_1_7', 'pixel_2_0', 'pixel_2_1', 'pixel_2_2', 'pixel_2_3', 'pixel_2_4', 'pixel_2_5', 'pixel_2_6', 'pixel_2_7', 'pixel_3_0', 'pixel_3_1', 'pixel_3_2', 'pixel_3_3', 'pixel_3_4', 'pixel_3_5', 'pixel_3_6', 'pixel_3_7', 'pixel_4_0', 'pixel_4_1', 'pixel_4_2', 'pixel_4_3', 'pixel_4_4', 'pixel_4_5', 'pixel_4_6', 'pixel_4_7', 'pixel_5_0', 'pixel_5_1', 'pixel_5_2', 'pixel_5_3', 'pixel_5_4', 'pixel_5_5', 'pixel_5_6', 'pixel_5_7', 'pixel_6_0', 'pixel_6_1', 'pixel_6_2', 'pixel_6_3', 'pixel_6_4', 'pixel_6_5', 'pixel_6_6', 'pixel_6_7', 'pixel_7_0', 'pixel_7_1', 'pixel_7_2', 'pixel_7_3', 'pixel_7_4', 'pixel_7_5', 'pixel_7_6', 'pixel_7_7']\n"
     ]
    },
    {
     "data": {
      "image/png": "[encoded data removed]",
      "text/plain": [
       "<Figure size 1600x600 with 10 Axes>"
      ]
     },
     "metadata": {},
     "output_type": "display_data"
    },
    {
     "name": "stdout",
     "output_type": "stream",
     "text": [
      "n_samples: [178 182 177 183 181 182 181 179 174 180]\n"
     ]
    }
   ],
   "source": [
    "from sklearn.datasets import load_digits\n",
    "\n",
    "# Load Iris dataset\n",
    "digits = load_digits()\n",
    "\n",
    "## print the label species(setosa, versicolor,virginica)\n",
    "print(digits.target_names)\n",
    "## print the names of the four features\n",
    "print(digits.feature_names)\n",
    "\n",
    "# Affichage des 10 premières images\n",
    "fig = plt.figure(figsize=(16,6))\n",
    "for i, digit in enumerate(digits.images[:10]):\n",
    "    fig.add_subplot(1,10,i+1)\n",
    "    plt.imshow(digit, cmap='binary')\n",
    "plt.show()\n",
    "\n",
    "print(\"n_samples: %s\" % np.bincount(digits.target))\n"
   ]
  },
  {
   "cell_type": "markdown",
   "metadata": {},
   "source": [
    "## Travail d'analyse\n",
    "- Déterminer les descripteurs, les classes et le nombre d'exemples par classe.\n",
    "- Donner un avis sur la qualité des données en comparaisant à la base MNIST exploitée pour le TP clustering."
   ]
  },
  {
   "cell_type": "markdown",
   "metadata": {},
   "source": [
    "##   <font color='blue'> Etape 2. Classification multi-classes avec un Arbres de Décision"
   ]
  },
  {
   "cell_type": "code",
   "execution_count": 3,
   "metadata": {},
   "outputs": [
    {
     "name": "stdout",
     "output_type": "stream",
     "text": [
      "Accuracy value: 100 %\n"
     ]
    }
   ],
   "source": [
    "from sklearn import tree\n",
    "\n",
    "#Accuracy of the model on the whole dataset\n",
    "X, y = digits.data, digits.target\n",
    "clf = tree.DecisionTreeClassifier()\n",
    "clf.fit(X, y)\n",
    "accuracy = clf.score(X,y)\n",
    "\n",
    "print(\"Accuracy value:\",\"%.0f\" %(100*accuracy),\"%\")"
   ]
  },
  {
   "cell_type": "markdown",
   "metadata": {},
   "source": [
    "## Travail d'analyse\n",
    "- Expliquer la valeur de performance obtenue.\n",
    "\n",
    "### Dans ce qui suit, partager la base en deux sous-ensemble, apprentissage et test"
   ]
  },
  {
   "cell_type": "code",
   "execution_count": 4,
   "metadata": {},
   "outputs": [
    {
     "name": "stdout",
     "output_type": "stream",
     "text": [
      "Accuracy value: 82.76 %\n"
     ]
    }
   ],
   "source": [
    "from sklearn.model_selection import train_test_split\n",
    "# 90% of data in the test, 10% for the training\n",
    "X_train, X_test, y_train, y_test = train_test_split(X, y, test_size=0.5, random_state=0)\n",
    "\n",
    "clf = tree.DecisionTreeClassifier()\n",
    "clf.fit(X_train, y_train)\n",
    "\n",
    "Z = clf.predict(X_test)\n",
    "accuracy = clf.score(X_test,y_test)\n",
    "print(\"Accuracy value:\",\"%.2f\" %(100*accuracy),\"%\")"
   ]
  },
  {
   "cell_type": "markdown",
   "metadata": {},
   "source": [
    "## Travail d'analyse\n",
    "- Exécuter la fonction ci-dessus 10 fois. Discuter.\n",
    "- En appliquant 100 tirages aléatoires de l'ensemble d'apprentissage et de test, évaluer les performances."
   ]
  },
  {
   "cell_type": "code",
   "execution_count": 5,
   "metadata": {},
   "outputs": [
    {
     "name": "stdout",
     "output_type": "stream",
     "text": [
      "82.425 %\n",
      "0.009\n"
     ]
    }
   ],
   "source": [
    "N = 100\n",
    "accuracies = []\n",
    "for i in range(N):\n",
    "    X_train, X_test, y_train, y_test = train_test_split(X, y, test_size=0.5, random_state=0)\n",
    "    clf = tree.DecisionTreeClassifier()\n",
    "    clf.fit(X_train, y_train)\n",
    "    Z = clf.predict(X_test)\n",
    "    accuracies.append(clf.score(X_test,y_test))\n",
    "    #print(accuracies[i])\n",
    "\n",
    "print(\"%.3f\" %(100*(np.mean(accuracies))),\"%\")\n",
    "print(\"%.3f\" %((np.std(accuracies))))"
   ]
  },
  {
   "cell_type": "markdown",
   "metadata": {},
   "source": [
    "##   <font color='blue'> Etape 3. Classification avec les Forêts Aléatoires\n"
   ]
  },
  {
   "cell_type": "code",
   "execution_count": 6,
   "metadata": {},
   "outputs": [
    {
     "name": "stdout",
     "output_type": "stream",
     "text": [
      "Random Forest (300 trees) : 96.89 %\n",
      "Decision Tree : 81.31 %\n"
     ]
    }
   ],
   "source": [
    "from sklearn.ensemble import RandomForestClassifier\n",
    "clf = RandomForestClassifier(n_estimators=300)\n",
    "clf.fit(X_train, y_train)\n",
    "accuracy2 = clf.score(X_test,y_test)\n",
    "print(\"Random Forest (300 trees) : \"\"%.2f\" %(100*accuracy2),\"%\")\n",
    "\n",
    "clf = tree.DecisionTreeClassifier()\n",
    "clf.fit(X_train, y_train)\n",
    "accuracy1 = clf.score(X_test,y_test)\n",
    "print(\"Decision Tree : \"\"%.2f\" %(100*accuracy1),\"%\")"
   ]
  },
  {
   "cell_type": "code",
   "execution_count": 7,
   "metadata": {},
   "outputs": [
    {
     "name": "stdout",
     "output_type": "stream",
     "text": [
      "95.572 %\n",
      "0.005\n"
     ]
    }
   ],
   "source": [
    "N = 100\n",
    "rf_accuracies = []\n",
    "for i in range(N):\n",
    "    X_train, X_test, y_train, y_test = train_test_split(X, y, test_size=0.5, random_state=0)\n",
    "    clf = RandomForestClassifier(n_estimators=30)\n",
    "    clf.fit(X_train, y_train)\n",
    "    rf_accuracies.append(clf.score(X_test,y_test))\n",
    "\n",
    "print(\"%.3f\" %(100*(np.mean(rf_accuracies))),\"%\")\n",
    "print(\"%.3f\" %((np.std(rf_accuracies))))"
   ]
  },
  {
   "cell_type": "code",
   "execution_count": 8,
   "metadata": {},
   "outputs": [
    {
     "data": {
      "image/png": "[encoded data removed]",
      "text/plain": [
       "<Figure size 640x480 with 1 Axes>"
      ]
     },
     "metadata": {},
     "output_type": "display_data"
    }
   ],
   "source": [
    "# Plot the graph Accuracy as a function of number of trees\n",
    "N = 50\n",
    "accuracy = []\n",
    "\n",
    "X_train, X_test, y_train, y_test = train_test_split(X, y, test_size=0.5, random_state=0)\n",
    "\n",
    "for i in range(N):\n",
    "    clf = RandomForestClassifier(n_estimators=(i+1)*10)\n",
    "    clf.fit(X_train, y_train)\n",
    "    accuracy.append(clf.score(X_test,y_test))\n",
    "    #print((i+1)*10, accuracy[i])\n",
    "\n",
    "plt.plot([10*(i+1) for i in range(50)], accuracy)\n",
    "plt.ylim((0.8,1))\n",
    "plt.show()"
   ]
  },
  {
   "cell_type": "markdown",
   "metadata": {},
   "source": [
    "## Travail d'analyse\n",
    "- Comparer la performance entre l'arbre de décision et la forêt aléatoire en terme de taux de bonne classification et d'intervalle de confiance. \n",
    "\n",
    "- Analyser la courbe de performances obtenue en fonction du nombre d'estimateurs et étudier l'impact de la taille de l'ensemble d'apprentissage."
   ]
  },
  {
   "cell_type": "markdown",
   "metadata": {},
   "source": [
    "##   <font color='blue'> Etape 4 :  Classification avec Adaboost"
   ]
  },
  {
   "cell_type": "code",
   "execution_count": 9,
   "metadata": {},
   "outputs": [
    {
     "name": "stdout",
     "output_type": "stream",
     "text": [
      "Accuracy value: 75.64 %\n"
     ]
    }
   ],
   "source": [
    "from sklearn.ensemble import AdaBoostClassifier\n",
    "\n",
    "# AdaBoost basé sur 200 arbres de décision\n",
    "clf = AdaBoostClassifier(estimator=tree.DecisionTreeClassifier(max_depth=1), n_estimators=500, learning_rate=0.1)\n",
    "clf.fit(X_train, y_train)\n",
    "accuracy = clf.score(X_test, y_test)\n",
    "print(\"Accuracy value:\",\"%.2f\" %(100*accuracy),\"%\")"
   ]
  },
  {
   "cell_type": "markdown",
   "metadata": {},
   "source": [
    " ## Travail d'analyse\n",
    " - Comparer les performance du Adaboost à la forêt aléatoire et à l'arbre de décision. \n",
    "   "
   ]
  }
 ],
 "metadata": {
  "kernelspec": {
   "display_name": "Python 3 (ipykernel)",
   "language": "python",
   "name": "python3"
  },
  "language_info": {
   "codemirror_mode": {
    "name": "ipython",
    "version": 3
   },
   "file_extension": ".py",
   "mimetype": "text/x-python",
   "name": "python",
   "nbconvert_exporter": "python",
   "pygments_lexer": "ipython3",
   "version": "3.10.9"
  }
 },
 "nbformat": 4,
 "nbformat_minor": 1
}
