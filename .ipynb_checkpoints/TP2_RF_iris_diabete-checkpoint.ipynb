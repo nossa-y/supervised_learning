{
 "cells": [
  {
   "cell_type": "code",
   "execution_count": null,
   "metadata": {},
   "outputs": [],
   "source": [
    "#%matplotlib inline\n",
    "import scipy\n",
    "import numpy as np\n",
    "import pandas as pd\n",
    "import matplotlib.pyplot as plt\n",
    "import seaborn as sns\n",
    "import warnings\n",
    "warnings.filterwarnings('ignore')\n",
    "\n",
    "np.random.seed(0)"
   ]
  },
  {
   "cell_type": "markdown",
   "metadata": {},
   "source": [
    "#  <font color='green'> Deuxième partie : Forêts alétaoires\n",
    "\n",
    "##   <font color='blue'> Etape 1 : Classification multi-classes sur la base \"Iris de Fisher\"\n",
    "\n",
    "- Comparer les résultats de classification à ceux obtenus avec l'arbre de décision et expliquer.\n",
    "- Etudier l'impact du nombre d'arbres et de la taille de la base d'apprentissage. Interpréter les résultats en termes de taux de bonne classification et matrice de confusion."
   ]
  },
  {
   "cell_type": "code",
   "execution_count": null,
   "metadata": {},
   "outputs": [],
   "source": [
    "from sklearn.datasets import load_iris\n",
    "\n",
    "# Reading the Iris.csv file\n",
    "iris = load_iris()\n",
    "data=pd.DataFrame({\n",
    "    'sepal length':iris.data[:,0],\n",
    "    'sepal width':iris.data[:,1],\n",
    "    'petal length':iris.data[:,2],\n",
    "    'petal width':iris.data[:,3],\n",
    "    'species':iris.target\n",
    "})\n",
    "\n",
    "X = iris.data\n",
    "y = iris.target"
   ]
  },
  {
   "cell_type": "code",
   "execution_count": null,
   "metadata": {},
   "outputs": [],
   "source": [
    "from sklearn.ensemble import RandomForestClassifier\n",
    "from sklearn.model_selection import train_test_split\n",
    "from sklearn import metrics\n",
    "from sklearn.metrics import accuracy_score\n",
    "# Split dataset into training and test datasets\n",
    "X_train, X_test, y_train, y_test = train_test_split(X, y, train_size=0.7, random_state=0) \n",
    "\n",
    "#Create the Classifier\n",
    "clf=RandomForestClassifier(n_estimators=100) #By default: n_estimators=100, min_samples_split=2\n",
    "\n",
    "#Train the model using the training sets \n",
    "clf.fit(X_train,y_train)\n",
    "\n",
    "#Classification of test data\n",
    "y_pred=clf.predict(X_test)\n",
    "\n",
    "# Print the Accuracy Score\n",
    "y_pred = clf.predict(X_test)\n",
    "print(\"Train data accuracy:\",\"%.3f\" %(100*accuracy_score(y_true = y_train, y_pred=clf.predict(X_train))),\"%\")\n",
    "print(\"Test data accuracy:\",\"%.3f\" %(100*accuracy_score(y_true = y_test, y_pred=y_pred)),\"%\")"
   ]
  },
  {
   "cell_type": "code",
   "execution_count": null,
   "metadata": {},
   "outputs": [],
   "source": [
    "confusion_matrix = metrics.confusion_matrix(y_test, y_pred)\n",
    "matrix_df = pd.DataFrame(confusion_matrix)\n",
    "ax = plt.axes()\n",
    "sns.set(font_scale=1.3)\n",
    "plt.figure(figsize=(2,2))\n",
    "sns.heatmap(matrix_df, annot=True, fmt=\"g\", ax=ax, cmap=\"viridis\")\n",
    "ax.set_title('Confusion Matrix - Decision Tree')\n",
    "ax.set_xlabel(\"Predicted label\", fontsize =15)\n",
    "ax.set_ylabel(\"True Label\", fontsize=15)\n",
    "\n",
    "plt.show()"
   ]
  },
  {
   "cell_type": "code",
   "execution_count": null,
   "metadata": {},
   "outputs": [],
   "source": [
    "species_idx1 = clf.predict([[5, 3, 1.4, 0.2]])[0]\n",
    "print(\"Species 1:\", iris.target_names[species_idx1])\n",
    "\n",
    "species_idx2 = clf.predict([[3, 5, 4, 2]])[0]\n",
    "print(\"Species 2:\", iris.target_names[species_idx2])\n"
   ]
  },
  {
   "cell_type": "markdown",
   "metadata": {},
   "source": [
    "##   <font color='blue'> Etape 2 : Identification des attributs les plus pertinents (sélection de variables)\n",
    "\n",
    "Utiliser les fôrets aléatoires pour la sélection des variables.\n",
    "- Interpréter les résultats en les confrontant à vos observations lors de l'analyse descriptive de la bse de donénes, au démarrage de ce TP.\n",
    "- Etudier les performances du classifieur en considérant :\n",
    "\n",
    "    (i) les 4 attributs séparément\n",
    "\n",
    "    (ii) les 4 attributs simultanément\n",
    "\n",
    "    (iii) les attributs suivant l'ordre de pertinence donné par la forêt\n"
   ]
  },
  {
   "cell_type": "markdown",
   "metadata": {},
   "source": [
    "### Sélection de variables"
   ]
  },
  {
   "cell_type": "code",
   "execution_count": null,
   "metadata": {},
   "outputs": [],
   "source": [
    "feature_imp = pd.Series(clf.feature_importances_,index=iris.feature_names).sort_values(ascending=False)\n",
    "#feature_imp\n",
    "\n",
    "# Create bar plot of feature importance score\n",
    "sns.barplot(x=feature_imp, y=feature_imp.index, palette=\"viridis\")\n",
    "\n",
    "# Add labels to the graph\n",
    "plt.xlabel('Importance Score')\n",
    "plt.ylabel('Attributes')\n",
    "plt.title(\"Important Features\")\n",
    "plt.show()"
   ]
  },
  {
   "cell_type": "markdown",
   "metadata": {},
   "source": [
    "### Choisir les variables et évaluer les performances de classification"
   ]
  },
  {
   "cell_type": "code",
   "execution_count": null,
   "metadata": {},
   "outputs": [],
   "source": [
    "# Consider the four attributes separately, than folliwing the order given by the selection method  !!!\n",
    "X=data[['sepal width']] \n",
    "\n",
    "\n",
    "y=data['species']                                       \n",
    "X_train, X_test, y_train, y_test = train_test_split(X, y, train_size=0.7, random_state=0) \n",
    "clf=RandomForestClassifier(n_estimators=100)\n",
    "clf.fit(X_train,y_train)\n",
    "\n",
    "# Prediction on test set\n",
    "y_pred=clf.predict(X_test)\n",
    "\n",
    "# Predict Accuracy Score, how often is the classifier correct?\n",
    "y_pred = clf.predict(X_test)\n",
    "print(\"Train data accuracy:\",\"%.3f\" %(100*accuracy_score(y_true = y_train, y_pred=clf.predict(X_train))),\"%\")\n",
    "print(\"Test data accuracy:\",\"%.3f\" %(100*accuracy_score(y_true = y_test, y_pred=y_pred)),\"%\")"
   ]
  },
  {
   "cell_type": "code",
   "execution_count": null,
   "metadata": {},
   "outputs": [],
   "source": [
    "confusion_matrix = metrics.confusion_matrix(y_test,  \n",
    "                                            y_pred)#turn this into a dataframe\n",
    "matrix_df = pd.DataFrame(confusion_matrix)#plot the result\n",
    "ax = plt.axes()\n",
    "sns.set(font_scale=1.3)\n",
    "plt.figure(figsize=(10,7))\n",
    "sns.heatmap(matrix_df, annot=True, fmt=\"g\", ax=ax, cmap=\"viridis\")#set axis titles\n",
    "ax.set_title('Confusion Matrix - Decision Tree')\n",
    "ax.set_xlabel(\"Predicted label\", fontsize =15)\n",
    "ax.set_ylabel(\"True Label\", fontsize=15)\n",
    "\n",
    "plt.show()"
   ]
  },
  {
   "cell_type": "markdown",
   "metadata": {},
   "source": [
    "#   <font color='blue'> Application à la détection du diabète"
   ]
  },
  {
   "cell_type": "code",
   "execution_count": null,
   "metadata": {},
   "outputs": [],
   "source": [
    "dataset = pd.read_csv(\"diabetes.csv\")\n",
    "\n",
    "Xdiab = dataset.drop(columns='Outcome')\n",
    "ydiab = dataset['Outcome']\n",
    "\n",
    "Xdiab_train, Xdiab_test, ydiab_train, ydiab_test = train_test_split(Xdiab, ydiab, test_size=0.3, random_state=0)\n",
    "\n",
    "clfdiab = RandomForestClassifier(n_estimators=300)\n",
    "clfdiab.fit(Xdiab_train, ydiab_train)\n",
    "\n",
    "X_train, X_test, y_train, y_test = train_test_split(X, y, train_size=0.7, random_state=0) \n",
    "\n",
    "ydiab_pred = clfdiab.predict(Xdiab_test)\n",
    "\n",
    "print(\"Train data accuracy:\",\"%.3f\" %(100*accuracy_score(y_true = ydiab_train, y_pred=clfdiab.predict(Xdiab_train))),\"%\")\n",
    "print(\"Test data accuracy:\",\"%.3f\" %(100*accuracy_score(y_true = ydiab_test, y_pred=ydiab_pred)),\"%\")\n",
    "\n",
    "\n",
    "conf_matrix = metrics.confusion_matrix(ydiab_test, ydiab_pred)\n",
    "#conf_matrix\n",
    "matrix_df = pd.DataFrame(conf_matrix) # Plot the result\n",
    "ax = plt.axes()\n",
    "sns.set(font_scale=1.3)\n",
    "sns.heatmap(matrix_df, annot=True, fmt=\"g\", ax=ax, cmap=\"viridis\") # Set axis titles\n",
    "ax.set_title('Confusion Matrix - Diabete detection')\n",
    "ax.set_xlabel(\"Predicted label\", fontsize =15)\n",
    "ax.set_ylabel(\"True Label\", fontsize=15) \n",
    "\n",
    "plt.show()"
   ]
  },
  {
   "cell_type": "code",
   "execution_count": null,
   "metadata": {},
   "outputs": [],
   "source": []
  }
 ],
 "metadata": {
  "kernelspec": {
   "display_name": "Python 3 (ipykernel)",
   "language": "python",
   "name": "python3"
  },
  "language_info": {
   "codemirror_mode": {
    "name": "ipython",
    "version": 3
   },
   "file_extension": ".py",
   "mimetype": "text/x-python",
   "name": "python",
   "nbconvert_exporter": "python",
   "pygments_lexer": "ipython3",
   "version": "3.10.9"
  }
 },
 "nbformat": 4,
 "nbformat_minor": 1
}
